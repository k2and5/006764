{
  "nbformat": 4,
  "nbformat_minor": 0,
  "metadata": {
    "colab": {
      "name": "Untitled0.ipynb",
      "provenance": [],
      "collapsed_sections": [],
      "authorship_tag": "ABX9TyMH5B3o0+JHsdehcxdYG/jF",
      "include_colab_link": true
    },
    "kernelspec": {
      "name": "python3",
      "display_name": "Python 3"
    }
  },
  "cells": [
    {
      "cell_type": "markdown",
      "metadata": {
        "id": "view-in-github",
        "colab_type": "text"
      },
      "source": [
        "<a href=\"https://colab.research.google.com/github/k2and5/006764/blob/master/Untitled0.ipynb\" target=\"_parent\"><img src=\"https://colab.research.google.com/assets/colab-badge.svg\" alt=\"Open In Colab\"/></a>"
      ]
    },
    {
      "cell_type": "code",
      "metadata": {
        "id": "ZxlIBvXrtPXy"
      },
      "source": [
        "import math\n",
        "import pandas_datareader as web\n",
        "import numpy as np\n",
        "import pandas as pd\n",
        "from sklearn.preprocessing import MinMaxScaler\n",
        "from keras.models import Sequential\n",
        "from keras.layers import Dense,LSTM\n",
        "import matplotlib.pyplot as plt\n",
        "#plt.style.use('fivethirtyeight')"
      ],
      "execution_count": null,
      "outputs": []
    },
    {
      "cell_type": "code",
      "metadata": {
        "id": "mKY_amm59ueG",
        "outputId": "9b0faf25-c63b-451b-d90d-4634f9715e3e",
        "colab": {
          "base_uri": "https://localhost:8080/",
          "height": 450
        }
      },
      "source": [
        "df = web.DataReader('AAPL', data_source='yahoo', start='2012-01-01',end='2019-12-17')\n",
        "df"
      ],
      "execution_count": null,
      "outputs": [
        {
          "output_type": "execute_result",
          "data": {
            "text/html": [
              "<div>\n",
              "<style scoped>\n",
              "    .dataframe tbody tr th:only-of-type {\n",
              "        vertical-align: middle;\n",
              "    }\n",
              "\n",
              "    .dataframe tbody tr th {\n",
              "        vertical-align: top;\n",
              "    }\n",
              "\n",
              "    .dataframe thead th {\n",
              "        text-align: right;\n",
              "    }\n",
              "</style>\n",
              "<table border=\"1\" class=\"dataframe\">\n",
              "  <thead>\n",
              "    <tr style=\"text-align: right;\">\n",
              "      <th></th>\n",
              "      <th>High</th>\n",
              "      <th>Low</th>\n",
              "      <th>Open</th>\n",
              "      <th>Close</th>\n",
              "      <th>Volume</th>\n",
              "      <th>Adj Close</th>\n",
              "    </tr>\n",
              "    <tr>\n",
              "      <th>Date</th>\n",
              "      <th></th>\n",
              "      <th></th>\n",
              "      <th></th>\n",
              "      <th></th>\n",
              "      <th></th>\n",
              "      <th></th>\n",
              "    </tr>\n",
              "  </thead>\n",
              "  <tbody>\n",
              "    <tr>\n",
              "      <th>2012-01-03</th>\n",
              "      <td>14.732142</td>\n",
              "      <td>14.607142</td>\n",
              "      <td>14.621428</td>\n",
              "      <td>14.686786</td>\n",
              "      <td>302220800.0</td>\n",
              "      <td>12.691425</td>\n",
              "    </tr>\n",
              "    <tr>\n",
              "      <th>2012-01-04</th>\n",
              "      <td>14.810000</td>\n",
              "      <td>14.617143</td>\n",
              "      <td>14.642858</td>\n",
              "      <td>14.765715</td>\n",
              "      <td>260022000.0</td>\n",
              "      <td>12.759631</td>\n",
              "    </tr>\n",
              "    <tr>\n",
              "      <th>2012-01-05</th>\n",
              "      <td>14.948215</td>\n",
              "      <td>14.738214</td>\n",
              "      <td>14.819643</td>\n",
              "      <td>14.929643</td>\n",
              "      <td>271269600.0</td>\n",
              "      <td>12.901293</td>\n",
              "    </tr>\n",
              "    <tr>\n",
              "      <th>2012-01-06</th>\n",
              "      <td>15.098214</td>\n",
              "      <td>14.972143</td>\n",
              "      <td>14.991786</td>\n",
              "      <td>15.085714</td>\n",
              "      <td>318292800.0</td>\n",
              "      <td>13.036158</td>\n",
              "    </tr>\n",
              "    <tr>\n",
              "      <th>2012-01-09</th>\n",
              "      <td>15.276786</td>\n",
              "      <td>15.048214</td>\n",
              "      <td>15.196428</td>\n",
              "      <td>15.061786</td>\n",
              "      <td>394024400.0</td>\n",
              "      <td>13.015480</td>\n",
              "    </tr>\n",
              "    <tr>\n",
              "      <th>...</th>\n",
              "      <td>...</td>\n",
              "      <td>...</td>\n",
              "      <td>...</td>\n",
              "      <td>...</td>\n",
              "      <td>...</td>\n",
              "      <td>...</td>\n",
              "    </tr>\n",
              "    <tr>\n",
              "      <th>2019-12-11</th>\n",
              "      <td>67.775002</td>\n",
              "      <td>67.125000</td>\n",
              "      <td>67.202499</td>\n",
              "      <td>67.692497</td>\n",
              "      <td>78756800.0</td>\n",
              "      <td>67.228699</td>\n",
              "    </tr>\n",
              "    <tr>\n",
              "      <th>2019-12-12</th>\n",
              "      <td>68.139999</td>\n",
              "      <td>66.830002</td>\n",
              "      <td>66.945000</td>\n",
              "      <td>67.864998</td>\n",
              "      <td>137310400.0</td>\n",
              "      <td>67.400017</td>\n",
              "    </tr>\n",
              "    <tr>\n",
              "      <th>2019-12-13</th>\n",
              "      <td>68.824997</td>\n",
              "      <td>67.732498</td>\n",
              "      <td>67.864998</td>\n",
              "      <td>68.787498</td>\n",
              "      <td>133587600.0</td>\n",
              "      <td>68.316193</td>\n",
              "    </tr>\n",
              "    <tr>\n",
              "      <th>2019-12-16</th>\n",
              "      <td>70.197502</td>\n",
              "      <td>69.245003</td>\n",
              "      <td>69.250000</td>\n",
              "      <td>69.964996</td>\n",
              "      <td>128186000.0</td>\n",
              "      <td>69.485619</td>\n",
              "    </tr>\n",
              "    <tr>\n",
              "      <th>2019-12-17</th>\n",
              "      <td>70.442497</td>\n",
              "      <td>69.699997</td>\n",
              "      <td>69.892502</td>\n",
              "      <td>70.102501</td>\n",
              "      <td>114158400.0</td>\n",
              "      <td>69.622192</td>\n",
              "    </tr>\n",
              "  </tbody>\n",
              "</table>\n",
              "<p>2003 rows × 6 columns</p>\n",
              "</div>"
            ],
            "text/plain": [
              "                 High        Low       Open      Close       Volume  Adj Close\n",
              "Date                                                                          \n",
              "2012-01-03  14.732142  14.607142  14.621428  14.686786  302220800.0  12.691425\n",
              "2012-01-04  14.810000  14.617143  14.642858  14.765715  260022000.0  12.759631\n",
              "2012-01-05  14.948215  14.738214  14.819643  14.929643  271269600.0  12.901293\n",
              "2012-01-06  15.098214  14.972143  14.991786  15.085714  318292800.0  13.036158\n",
              "2012-01-09  15.276786  15.048214  15.196428  15.061786  394024400.0  13.015480\n",
              "...               ...        ...        ...        ...          ...        ...\n",
              "2019-12-11  67.775002  67.125000  67.202499  67.692497   78756800.0  67.228699\n",
              "2019-12-12  68.139999  66.830002  66.945000  67.864998  137310400.0  67.400017\n",
              "2019-12-13  68.824997  67.732498  67.864998  68.787498  133587600.0  68.316193\n",
              "2019-12-16  70.197502  69.245003  69.250000  69.964996  128186000.0  69.485619\n",
              "2019-12-17  70.442497  69.699997  69.892502  70.102501  114158400.0  69.622192\n",
              "\n",
              "[2003 rows x 6 columns]"
            ]
          },
          "metadata": {
            "tags": []
          },
          "execution_count": 7
        }
      ]
    },
    {
      "cell_type": "code",
      "metadata": {
        "id": "ZyhUxyfL-Nko",
        "outputId": "f0073524-c735-41da-c6f3-69699bc68a2b",
        "colab": {
          "base_uri": "https://localhost:8080/"
        }
      },
      "source": [
        "df.shape"
      ],
      "execution_count": null,
      "outputs": [
        {
          "output_type": "execute_result",
          "data": {
            "text/plain": [
              "(2003, 6)"
            ]
          },
          "metadata": {
            "tags": []
          },
          "execution_count": 8
        }
      ]
    },
    {
      "cell_type": "code",
      "metadata": {
        "id": "lLslQ_vR-Sie",
        "outputId": "d303a870-1760-4241-e294-fcb438ae59fd",
        "colab": {
          "base_uri": "https://localhost:8080/",
          "height": 533
        }
      },
      "source": [
        "plt.figure(figsize=(16,8))\n",
        "plt.plot(df['Close'])"
      ],
      "execution_count": null,
      "outputs": [
        {
          "output_type": "execute_result",
          "data": {
            "text/plain": [
              "[<matplotlib.lines.Line2D at 0x7f1138ccb6d8>]"
            ]
          },
          "metadata": {
            "tags": []
          },
          "execution_count": 9
        },
        {
          "output_type": "display_data",
          "data": {
            "image/png": "[encoded data removed]",
            "text/plain": [
              "<Figure size 1152x576 with 1 Axes>"
            ]
          },
          "metadata": {
            "tags": []
          }
        }
      ]
    },
    {
      "cell_type": "code",
      "metadata": {
        "id": "WTt_sc6D-nAy",
        "outputId": "cb746932-d00f-4487-8f08-da5a34696ec9",
        "colab": {
          "base_uri": "https://localhost:8080/"
        }
      },
      "source": [
        "data = df.filter(['Close'])\n",
        "dataset = data.values\n",
        "dataset"
      ],
      "execution_count": null,
      "outputs": [
        {
          "output_type": "execute_result",
          "data": {
            "text/plain": [
              "array([[14.6867857 ],\n",
              "       [14.76571465],\n",
              "       [14.92964268],\n",
              "       ...,\n",
              "       [68.78749847],\n",
              "       [69.96499634],\n",
              "       [70.10250092]])"
            ]
          },
          "metadata": {
            "tags": []
          },
          "execution_count": 60
        }
      ]
    },
    {
      "cell_type": "code",
      "metadata": {
        "id": "YpTtLjuZVVKl",
        "outputId": "66a795f5-ba62-4640-e093-f47443feecd8",
        "colab": {
          "base_uri": "https://localhost:8080/"
        }
      },
      "source": [
        "tranining_data_len = math.ceil( len(dataset)* .8)\n",
        "tranining_data_len"
      ],
      "execution_count": null,
      "outputs": [
        {
          "output_type": "execute_result",
          "data": {
            "text/plain": [
              "1603"
            ]
          },
          "metadata": {
            "tags": []
          },
          "execution_count": 61
        }
      ]
    },
    {
      "cell_type": "code",
      "metadata": {
        "id": "4JB825u_-vNc",
        "outputId": "f1f4ae21-8635-491c-9d98-be200de2f211",
        "colab": {
          "base_uri": "https://localhost:8080/"
        }
      },
      "source": [
        "scaler = MinMaxScaler(feature_range=(0,1))\n",
        "scaled_data = scaler.fit_transform(dataset)\n",
        "scaled_data"
      ],
      "execution_count": null,
      "outputs": [
        {
          "output_type": "execute_result",
          "data": {
            "text/plain": [
              "array([[0.01316509],\n",
              "       [0.01457064],\n",
              "       [0.01748985],\n",
              "       ...,\n",
              "       [0.97658263],\n",
              "       [0.99755134],\n",
              "       [1.        ]])"
            ]
          },
          "metadata": {
            "tags": []
          },
          "execution_count": 12
        }
      ]
    },
    {
      "cell_type": "code",
      "metadata": {
        "id": "Ig67zA2y_aig",
        "outputId": "58059166-0897-4b03-e367-4de443ce45eb",
        "colab": {
          "base_uri": "https://localhost:8080/"
        }
      },
      "source": [
        "train_data = scaled_data[0:tranining_data_len, :]\n",
        "x_train = []\n",
        "y_train = []\n",
        "\n",
        "for i in range(120,len(train_data)):\n",
        "  x_train.append(train_data[i-120:i-60,0])\n",
        "  y_train.append(train_data[i-60:i,0])\n",
        "\n",
        "print(x_train[0])\n",
        "print(y_train[0])\n"
      ],
      "execution_count": null,
      "outputs": [
        {
          "output_type": "stream",
          "text": [
            "[0.01316509 0.01457064 0.01748985 0.02026915 0.01984303 0.02080338\n",
            " 0.02036454 0.01962679 0.01862193 0.02173194 0.02453668 0.02367172\n",
            " 0.01893356 0.02345548 0.01900352 0.03569838 0.03440731 0.0360927\n",
            " 0.03973694 0.04194384 0.0417594  0.0410789  0.04397903 0.04670744\n",
            " 0.04979839 0.05479095 0.0652785  0.06543749 0.07127594 0.07563885\n",
            " 0.06814046 0.07102789 0.07097066 0.07906688 0.07791571 0.08004628\n",
            " 0.08387497 0.08600558 0.09214292 0.09661397 0.09790501 0.09835659\n",
            " 0.09071194 0.08886753 0.08914103 0.09632775 0.09835024 0.10269405\n",
            " 0.11293358 0.12659476 0.12403805 0.1240444  0.13392141 0.13701233\n",
            " 0.13481179 0.13280207 0.13070964 0.13766105 0.14243103 0.14442805]\n",
            "[0.13949272 0.13293563 0.14507041 0.15186917 0.14868284 0.15464211\n",
            " 0.1562639  0.15130952 0.14988489 0.14770341 0.13654806 0.12058461\n",
            " 0.13939096 0.13852602 0.12523371 0.11603724 0.11522315 0.10796011\n",
            " 0.13958178 0.13811897 0.13512982 0.12303317 0.1218566  0.12430516\n",
            " 0.12165943 0.111121   0.11381126 0.11298446 0.11362047 0.11447267\n",
            " 0.11204956 0.10664995 0.10343818 0.09892898 0.08877851 0.08894386\n",
            " 0.10859608 0.10585498 0.11449811 0.11116553 0.10923845 0.11558567\n",
            " 0.11997404 0.11905823 0.10841165 0.11051043 0.10958191 0.11507054\n",
            " 0.11523589 0.12070543 0.11488607 0.1180597  0.11551573 0.11511504\n",
            " 0.11676863 0.12417796 0.12521466 0.12415252 0.11902005 0.12183751]\n"
          ],
          "name": "stdout"
        }
      ]
    },
    {
      "cell_type": "code",
      "metadata": {
        "id": "hID5vSlgAYAS"
      },
      "source": [
        "x_train,y_train = np.array(x_train),np.array(y_train)\n"
      ],
      "execution_count": null,
      "outputs": []
    },
    {
      "cell_type": "code",
      "metadata": {
        "id": "hNDIaOgMA8L1",
        "outputId": "32b1d8c4-c2cc-4cf8-940b-f8dd8d89bd94",
        "colab": {
          "base_uri": "https://localhost:8080/"
        }
      },
      "source": [
        "x_train = np.reshape(x_train,(x_train.shape[0],x_train.shape[1],1))\n",
        "x_train.shape"
      ],
      "execution_count": null,
      "outputs": [
        {
          "output_type": "execute_result",
          "data": {
            "text/plain": [
              "(1483, 60, 1)"
            ]
          },
          "metadata": {
            "tags": []
          },
          "execution_count": 65
        }
      ]
    },
    {
      "cell_type": "code",
      "metadata": {
        "id": "u9jnuF57BGtC",
        "outputId": "6e1b2af1-1641-4b81-f9a4-8a70ce8670ce",
        "colab": {
          "base_uri": "https://localhost:8080/"
        }
      },
      "source": [
        "model = Sequential()\n",
        "model.add(LSTM(128, return_sequences=True, input_shape=(x_train.shape[1],1)))\n",
        "model.add(LSTM(128, return_sequences=False))\n",
        "model.add(Dense(64))\n",
        "model.add(Dense(60))\n",
        "model.summary()"
      ],
      "execution_count": null,
      "outputs": [
        {
          "output_type": "stream",
          "text": [
            "Model: \"sequential_2\"\n",
            "_________________________________________________________________\n",
            "Layer (type)                 Output Shape              Param #   \n",
            "=================================================================\n",
            "lstm_4 (LSTM)                (None, 60, 128)           66560     \n",
            "_________________________________________________________________\n",
            "lstm_5 (LSTM)                (None, 128)               131584    \n",
            "_________________________________________________________________\n",
            "dense_4 (Dense)              (None, 64)                8256      \n",
            "_________________________________________________________________\n",
            "dense_5 (Dense)              (None, 60)                3900      \n",
            "=================================================================\n",
            "Total params: 210,300\n",
            "Trainable params: 210,300\n",
            "Non-trainable params: 0\n",
            "_________________________________________________________________\n"
          ],
          "name": "stdout"
        }
      ]
    },
    {
      "cell_type": "code",
      "metadata": {
        "id": "ar-O3SjvBrSt"
      },
      "source": [
        "model.compile(optimizer='adam',loss='mean_squared_error',metrics=['accuracy'])"
      ],
      "execution_count": null,
      "outputs": []
    },
    {
      "cell_type": "code",
      "metadata": {
        "id": "_VAIZ_GBB7Yq",
        "outputId": "9026c8f6-11b9-4930-f13f-3cc32fbb0353",
        "colab": {
          "base_uri": "https://localhost:8080/"
        }
      },
      "source": [
        "hist = model.fit(x_train,y_train,batch_size=1,epochs=2).history\n",
        "hist"
      ],
      "execution_count": null,
      "outputs": [
        {
          "output_type": "stream",
          "text": [
            "Epoch 1/2\n",
            "1483/1483 [==============================] - 51s 34ms/step - loss: 0.0032 - accuracy: 0.0371\n",
            "Epoch 2/2\n",
            "1483/1483 [==============================] - 51s 34ms/step - loss: 0.0021 - accuracy: 0.0391\n"
          ],
          "name": "stdout"
        },
        {
          "output_type": "execute_result",
          "data": {
            "text/plain": [
              "{'accuracy': [0.037086986005306244, 0.039109911769628525],\n",
              " 'loss': [0.0031781871803104877, 0.002062293002381921]}"
            ]
          },
          "metadata": {
            "tags": []
          },
          "execution_count": 68
        }
      ]
    },
    {
      "cell_type": "code",
      "metadata": {
        "id": "7YaM-SPnCOWJ"
      },
      "source": [
        "test_data = scaled_data[tranining_data_len-60:,:]\n",
        "x_test = []\n",
        "y_test = dataset[tranining_data_len:,:]\n",
        "for i in range(60,len(test_data)):\n",
        "  x_test.append(test_data[i-60:i,0])\n",
        "  "
      ],
      "execution_count": null,
      "outputs": []
    },
    {
      "cell_type": "code",
      "metadata": {
        "id": "d8A_MXi7C-hC"
      },
      "source": [
        "x_test = np.array(x_test)"
      ],
      "execution_count": null,
      "outputs": []
    },
    {
      "cell_type": "code",
      "metadata": {
        "id": "65KII2eyDEkU"
      },
      "source": [
        "x_test = np.reshape(x_test,(x_test.shape[0],x_test.shape[1],1))"
      ],
      "execution_count": null,
      "outputs": []
    },
    {
      "cell_type": "code",
      "metadata": {
        "id": "tAVyBFSQDTIa",
        "outputId": "07f8ef8e-f46f-4de0-90b7-9df52e079b61",
        "colab": {
          "base_uri": "https://localhost:8080/"
        }
      },
      "source": [
        "predictions = model.predict(x_test)\n",
        "predictions = scaler.inverse_transform(predictions)"
      ],
      "execution_count": null,
      "outputs": [
        {
          "output_type": "execute_result",
          "data": {
            "text/plain": [
              "array([[43.242184, 42.91521 , 42.598965, ..., 43.52135 , 44.138557,\n",
              "        45.177216],\n",
              "       [43.226368, 42.84414 , 42.56231 , ..., 43.51182 , 44.08426 ,\n",
              "        45.11776 ],\n",
              "       [43.178894, 42.74665 , 42.49779 , ..., 43.4738  , 44.00435 ,\n",
              "        45.028637],\n",
              "       ...,\n",
              "       [60.249012, 59.559925, 58.97376 , ..., 60.472885, 61.29066 ,\n",
              "        62.517715],\n",
              "       [60.577114, 59.91669 , 59.30389 , ..., 60.79803 , 61.653313,\n",
              "        62.876705],\n",
              "       [61.071938, 60.4549  , 59.80175 , ..., 61.28973 , 62.204876,\n",
              "        63.417355]], dtype=float32)"
            ]
          },
          "metadata": {
            "tags": []
          },
          "execution_count": 72
        }
      ]
    },
    {
      "cell_type": "code",
      "metadata": {
        "id": "EjnZoNc4YpLS",
        "outputId": "11c244bd-84e6-4136-8299-f934d8bd0bc8",
        "colab": {
          "base_uri": "https://localhost:8080/"
        }
      },
      "source": [
        "print(predictions.shape)\n",
        "predictions"
      ],
      "execution_count": null,
      "outputs": [
        {
          "output_type": "stream",
          "text": [
            "(400, 60)\n"
          ],
          "name": "stdout"
        },
        {
          "output_type": "execute_result",
          "data": {
            "text/plain": [
              "array([[43.242184, 42.91521 , 42.598965, ..., 43.52135 , 44.138557,\n",
              "        45.177216],\n",
              "       [43.226368, 42.84414 , 42.56231 , ..., 43.51182 , 44.08426 ,\n",
              "        45.11776 ],\n",
              "       [43.178894, 42.74665 , 42.49779 , ..., 43.4738  , 44.00435 ,\n",
              "        45.028637],\n",
              "       ...,\n",
              "       [60.249012, 59.559925, 58.97376 , ..., 60.472885, 61.29066 ,\n",
              "        62.517715],\n",
              "       [60.577114, 59.91669 , 59.30389 , ..., 60.79803 , 61.653313,\n",
              "        62.876705],\n",
              "       [61.071938, 60.4549  , 59.80175 , ..., 61.28973 , 62.204876,\n",
              "        63.417355]], dtype=float32)"
            ]
          },
          "metadata": {
            "tags": []
          },
          "execution_count": 108
        }
      ]
    },
    {
      "cell_type": "code",
      "metadata": {
        "id": "gAsKu5YiDhHK",
        "outputId": "fac7349b-7b44-4b6c-df41-cee7a447c752",
        "colab": {
          "base_uri": "https://localhost:8080/"
        }
      },
      "source": [
        "rmse = np.sqrt( np.mean( predictions - y_test)**2)\n",
        "rmse"
      ],
      "execution_count": null,
      "outputs": [
        {
          "output_type": "execute_result",
          "data": {
            "text/plain": [
              "4.240174582799276"
            ]
          },
          "metadata": {
            "tags": []
          },
          "execution_count": 73
        }
      ]
    },
    {
      "cell_type": "code",
      "metadata": {
        "id": "AIrpMhpyDuiU",
        "outputId": "47bdcb0a-a5ec-4a88-be57-9091b7c7d829",
        "colab": {
          "base_uri": "https://localhost:8080/",
          "height": 1000
        }
      },
      "source": [
        "train = data[:tranining_data_len]\n",
        "valid = data[tranining_data_len:]\n",
        "pre = data[-60:]\n",
        "print(pre.shape)\n",
        "pre['Predictions'] = predictions[-1]\n",
        "print(tranining_data_len)\n",
        "pre\n"
      ],
      "execution_count": null,
      "outputs": [
        {
          "output_type": "stream",
          "text": [
            "(60, 1)\n",
            "1603\n"
          ],
          "name": "stdout"
        },
        {
          "output_type": "stream",
          "text": [
            "/usr/local/lib/python3.6/dist-packages/ipykernel_launcher.py:5: SettingWithCopyWarning: \n",
            "A value is trying to be set on a copy of a slice from a DataFrame.\n",
            "Try using .loc[row_indexer,col_indexer] = value instead\n",
            "\n",
            "See the caveats in the documentation: https://pandas.pydata.org/pandas-docs/stable/user_guide/indexing.html#returning-a-view-versus-a-copy\n",
            "  \"\"\"\n"
          ],
          "name": "stderr"
        },
        {
          "output_type": "execute_result",
          "data": {
            "text/html": [
              "<div>\n",
              "<style scoped>\n",
              "    .dataframe tbody tr th:only-of-type {\n",
              "        vertical-align: middle;\n",
              "    }\n",
              "\n",
              "    .dataframe tbody tr th {\n",
              "        vertical-align: top;\n",
              "    }\n",
              "\n",
              "    .dataframe thead th {\n",
              "        text-align: right;\n",
              "    }\n",
              "</style>\n",
              "<table border=\"1\" class=\"dataframe\">\n",
              "  <thead>\n",
              "    <tr style=\"text-align: right;\">\n",
              "      <th></th>\n",
              "      <th>Close</th>\n",
              "      <th>Predictions</th>\n",
              "    </tr>\n",
              "    <tr>\n",
              "      <th>Date</th>\n",
              "      <th></th>\n",
              "      <th></th>\n",
              "    </tr>\n",
              "  </thead>\n",
              "  <tbody>\n",
              "    <tr>\n",
              "      <th>2019-09-24</th>\n",
              "      <td>54.419998</td>\n",
              "      <td>61.071938</td>\n",
              "    </tr>\n",
              "    <tr>\n",
              "      <th>2019-09-25</th>\n",
              "      <td>55.257500</td>\n",
              "      <td>60.454899</td>\n",
              "    </tr>\n",
              "    <tr>\n",
              "      <th>2019-09-26</th>\n",
              "      <td>54.972500</td>\n",
              "      <td>59.801750</td>\n",
              "    </tr>\n",
              "    <tr>\n",
              "      <th>2019-09-27</th>\n",
              "      <td>54.705002</td>\n",
              "      <td>61.593689</td>\n",
              "    </tr>\n",
              "    <tr>\n",
              "      <th>2019-09-30</th>\n",
              "      <td>55.992500</td>\n",
              "      <td>61.088276</td>\n",
              "    </tr>\n",
              "    <tr>\n",
              "      <th>2019-10-01</th>\n",
              "      <td>56.147499</td>\n",
              "      <td>60.888012</td>\n",
              "    </tr>\n",
              "    <tr>\n",
              "      <th>2019-10-02</th>\n",
              "      <td>54.740002</td>\n",
              "      <td>61.326443</td>\n",
              "    </tr>\n",
              "    <tr>\n",
              "      <th>2019-10-03</th>\n",
              "      <td>55.205002</td>\n",
              "      <td>61.917053</td>\n",
              "    </tr>\n",
              "    <tr>\n",
              "      <th>2019-10-04</th>\n",
              "      <td>56.752499</td>\n",
              "      <td>61.860378</td>\n",
              "    </tr>\n",
              "    <tr>\n",
              "      <th>2019-10-07</th>\n",
              "      <td>56.764999</td>\n",
              "      <td>59.867126</td>\n",
              "    </tr>\n",
              "    <tr>\n",
              "      <th>2019-10-08</th>\n",
              "      <td>56.099998</td>\n",
              "      <td>60.634712</td>\n",
              "    </tr>\n",
              "    <tr>\n",
              "      <th>2019-10-09</th>\n",
              "      <td>56.757500</td>\n",
              "      <td>61.420135</td>\n",
              "    </tr>\n",
              "    <tr>\n",
              "      <th>2019-10-10</th>\n",
              "      <td>57.522499</td>\n",
              "      <td>61.491924</td>\n",
              "    </tr>\n",
              "    <tr>\n",
              "      <th>2019-10-11</th>\n",
              "      <td>59.052502</td>\n",
              "      <td>61.228386</td>\n",
              "    </tr>\n",
              "    <tr>\n",
              "      <th>2019-10-14</th>\n",
              "      <td>58.967499</td>\n",
              "      <td>60.890926</td>\n",
              "    </tr>\n",
              "    <tr>\n",
              "      <th>2019-10-15</th>\n",
              "      <td>58.830002</td>\n",
              "      <td>60.911823</td>\n",
              "    </tr>\n",
              "    <tr>\n",
              "      <th>2019-10-16</th>\n",
              "      <td>58.592499</td>\n",
              "      <td>62.212700</td>\n",
              "    </tr>\n",
              "    <tr>\n",
              "      <th>2019-10-17</th>\n",
              "      <td>58.820000</td>\n",
              "      <td>61.606068</td>\n",
              "    </tr>\n",
              "    <tr>\n",
              "      <th>2019-10-18</th>\n",
              "      <td>59.102501</td>\n",
              "      <td>62.097969</td>\n",
              "    </tr>\n",
              "    <tr>\n",
              "      <th>2019-10-21</th>\n",
              "      <td>60.127499</td>\n",
              "      <td>60.475899</td>\n",
              "    </tr>\n",
              "    <tr>\n",
              "      <th>2019-10-22</th>\n",
              "      <td>59.990002</td>\n",
              "      <td>61.744797</td>\n",
              "    </tr>\n",
              "    <tr>\n",
              "      <th>2019-10-23</th>\n",
              "      <td>60.794998</td>\n",
              "      <td>62.148029</td>\n",
              "    </tr>\n",
              "    <tr>\n",
              "      <th>2019-10-24</th>\n",
              "      <td>60.895000</td>\n",
              "      <td>63.367764</td>\n",
              "    </tr>\n",
              "    <tr>\n",
              "      <th>2019-10-25</th>\n",
              "      <td>61.645000</td>\n",
              "      <td>62.883106</td>\n",
              "    </tr>\n",
              "    <tr>\n",
              "      <th>2019-10-28</th>\n",
              "      <td>62.262501</td>\n",
              "      <td>62.540394</td>\n",
              "    </tr>\n",
              "    <tr>\n",
              "      <th>2019-10-29</th>\n",
              "      <td>60.822498</td>\n",
              "      <td>62.097561</td>\n",
              "    </tr>\n",
              "    <tr>\n",
              "      <th>2019-10-30</th>\n",
              "      <td>60.814999</td>\n",
              "      <td>61.160408</td>\n",
              "    </tr>\n",
              "    <tr>\n",
              "      <th>2019-10-31</th>\n",
              "      <td>62.189999</td>\n",
              "      <td>60.963890</td>\n",
              "    </tr>\n",
              "    <tr>\n",
              "      <th>2019-11-01</th>\n",
              "      <td>63.955002</td>\n",
              "      <td>60.799007</td>\n",
              "    </tr>\n",
              "    <tr>\n",
              "      <th>2019-11-04</th>\n",
              "      <td>64.375000</td>\n",
              "      <td>61.915573</td>\n",
              "    </tr>\n",
              "    <tr>\n",
              "      <th>2019-11-05</th>\n",
              "      <td>64.282501</td>\n",
              "      <td>59.762516</td>\n",
              "    </tr>\n",
              "    <tr>\n",
              "      <th>2019-11-06</th>\n",
              "      <td>64.309998</td>\n",
              "      <td>62.167694</td>\n",
              "    </tr>\n",
              "    <tr>\n",
              "      <th>2019-11-07</th>\n",
              "      <td>64.857498</td>\n",
              "      <td>60.232723</td>\n",
              "    </tr>\n",
              "    <tr>\n",
              "      <th>2019-11-08</th>\n",
              "      <td>65.035004</td>\n",
              "      <td>61.496487</td>\n",
              "    </tr>\n",
              "    <tr>\n",
              "      <th>2019-11-11</th>\n",
              "      <td>65.550003</td>\n",
              "      <td>60.903423</td>\n",
              "    </tr>\n",
              "    <tr>\n",
              "      <th>2019-11-12</th>\n",
              "      <td>65.489998</td>\n",
              "      <td>59.515018</td>\n",
              "    </tr>\n",
              "    <tr>\n",
              "      <th>2019-11-13</th>\n",
              "      <td>66.117500</td>\n",
              "      <td>60.536682</td>\n",
              "    </tr>\n",
              "    <tr>\n",
              "      <th>2019-11-14</th>\n",
              "      <td>65.660004</td>\n",
              "      <td>60.500999</td>\n",
              "    </tr>\n",
              "    <tr>\n",
              "      <th>2019-11-15</th>\n",
              "      <td>66.440002</td>\n",
              "      <td>60.023525</td>\n",
              "    </tr>\n",
              "    <tr>\n",
              "      <th>2019-11-18</th>\n",
              "      <td>66.775002</td>\n",
              "      <td>60.327675</td>\n",
              "    </tr>\n",
              "    <tr>\n",
              "      <th>2019-11-19</th>\n",
              "      <td>66.572502</td>\n",
              "      <td>60.630627</td>\n",
              "    </tr>\n",
              "    <tr>\n",
              "      <th>2019-11-20</th>\n",
              "      <td>65.797501</td>\n",
              "      <td>59.772907</td>\n",
              "    </tr>\n",
              "    <tr>\n",
              "      <th>2019-11-21</th>\n",
              "      <td>65.502502</td>\n",
              "      <td>58.575500</td>\n",
              "    </tr>\n",
              "    <tr>\n",
              "      <th>2019-11-22</th>\n",
              "      <td>65.445000</td>\n",
              "      <td>61.488678</td>\n",
              "    </tr>\n",
              "    <tr>\n",
              "      <th>2019-11-25</th>\n",
              "      <td>66.592499</td>\n",
              "      <td>58.787968</td>\n",
              "    </tr>\n",
              "    <tr>\n",
              "      <th>2019-11-26</th>\n",
              "      <td>66.072502</td>\n",
              "      <td>61.740692</td>\n",
              "    </tr>\n",
              "    <tr>\n",
              "      <th>2019-11-27</th>\n",
              "      <td>66.959999</td>\n",
              "      <td>61.213665</td>\n",
              "    </tr>\n",
              "    <tr>\n",
              "      <th>2019-11-29</th>\n",
              "      <td>66.812500</td>\n",
              "      <td>60.947258</td>\n",
              "    </tr>\n",
              "    <tr>\n",
              "      <th>2019-12-02</th>\n",
              "      <td>66.040001</td>\n",
              "      <td>60.639637</td>\n",
              "    </tr>\n",
              "    <tr>\n",
              "      <th>2019-12-03</th>\n",
              "      <td>64.862503</td>\n",
              "      <td>60.294243</td>\n",
              "    </tr>\n",
              "    <tr>\n",
              "      <th>2019-12-04</th>\n",
              "      <td>65.434998</td>\n",
              "      <td>60.654667</td>\n",
              "    </tr>\n",
              "    <tr>\n",
              "      <th>2019-12-05</th>\n",
              "      <td>66.394997</td>\n",
              "      <td>59.063423</td>\n",
              "    </tr>\n",
              "    <tr>\n",
              "      <th>2019-12-06</th>\n",
              "      <td>67.677498</td>\n",
              "      <td>59.820293</td>\n",
              "    </tr>\n",
              "    <tr>\n",
              "      <th>2019-12-09</th>\n",
              "      <td>66.730003</td>\n",
              "      <td>58.990509</td>\n",
              "    </tr>\n",
              "    <tr>\n",
              "      <th>2019-12-10</th>\n",
              "      <td>67.120003</td>\n",
              "      <td>59.135605</td>\n",
              "    </tr>\n",
              "    <tr>\n",
              "      <th>2019-12-11</th>\n",
              "      <td>67.692497</td>\n",
              "      <td>59.657772</td>\n",
              "    </tr>\n",
              "    <tr>\n",
              "      <th>2019-12-12</th>\n",
              "      <td>67.864998</td>\n",
              "      <td>60.242538</td>\n",
              "    </tr>\n",
              "    <tr>\n",
              "      <th>2019-12-13</th>\n",
              "      <td>68.787498</td>\n",
              "      <td>61.289730</td>\n",
              "    </tr>\n",
              "    <tr>\n",
              "      <th>2019-12-16</th>\n",
              "      <td>69.964996</td>\n",
              "      <td>62.204876</td>\n",
              "    </tr>\n",
              "    <tr>\n",
              "      <th>2019-12-17</th>\n",
              "      <td>70.102501</td>\n",
              "      <td>63.417355</td>\n",
              "    </tr>\n",
              "  </tbody>\n",
              "</table>\n",
              "</div>"
            ],
            "text/plain": [
              "                Close  Predictions\n",
              "Date                              \n",
              "2019-09-24  54.419998    61.071938\n",
              "2019-09-25  55.257500    60.454899\n",
              "2019-09-26  54.972500    59.801750\n",
              "2019-09-27  54.705002    61.593689\n",
              "2019-09-30  55.992500    61.088276\n",
              "2019-10-01  56.147499    60.888012\n",
              "2019-10-02  54.740002    61.326443\n",
              "2019-10-03  55.205002    61.917053\n",
              "2019-10-04  56.752499    61.860378\n",
              "2019-10-07  56.764999    59.867126\n",
              "2019-10-08  56.099998    60.634712\n",
              "2019-10-09  56.757500    61.420135\n",
              "2019-10-10  57.522499    61.491924\n",
              "2019-10-11  59.052502    61.228386\n",
              "2019-10-14  58.967499    60.890926\n",
              "2019-10-15  58.830002    60.911823\n",
              "2019-10-16  58.592499    62.212700\n",
              "2019-10-17  58.820000    61.606068\n",
              "2019-10-18  59.102501    62.097969\n",
              "2019-10-21  60.127499    60.475899\n",
              "2019-10-22  59.990002    61.744797\n",
              "2019-10-23  60.794998    62.148029\n",
              "2019-10-24  60.895000    63.367764\n",
              "2019-10-25  61.645000    62.883106\n",
              "2019-10-28  62.262501    62.540394\n",
              "2019-10-29  60.822498    62.097561\n",
              "2019-10-30  60.814999    61.160408\n",
              "2019-10-31  62.189999    60.963890\n",
              "2019-11-01  63.955002    60.799007\n",
              "2019-11-04  64.375000    61.915573\n",
              "2019-11-05  64.282501    59.762516\n",
              "2019-11-06  64.309998    62.167694\n",
              "2019-11-07  64.857498    60.232723\n",
              "2019-11-08  65.035004    61.496487\n",
              "2019-11-11  65.550003    60.903423\n",
              "2019-11-12  65.489998    59.515018\n",
              "2019-11-13  66.117500    60.536682\n",
              "2019-11-14  65.660004    60.500999\n",
              "2019-11-15  66.440002    60.023525\n",
              "2019-11-18  66.775002    60.327675\n",
              "2019-11-19  66.572502    60.630627\n",
              "2019-11-20  65.797501    59.772907\n",
              "2019-11-21  65.502502    58.575500\n",
              "2019-11-22  65.445000    61.488678\n",
              "2019-11-25  66.592499    58.787968\n",
              "2019-11-26  66.072502    61.740692\n",
              "2019-11-27  66.959999    61.213665\n",
              "2019-11-29  66.812500    60.947258\n",
              "2019-12-02  66.040001    60.639637\n",
              "2019-12-03  64.862503    60.294243\n",
              "2019-12-04  65.434998    60.654667\n",
              "2019-12-05  66.394997    59.063423\n",
              "2019-12-06  67.677498    59.820293\n",
              "2019-12-09  66.730003    58.990509\n",
              "2019-12-10  67.120003    59.135605\n",
              "2019-12-11  67.692497    59.657772\n",
              "2019-12-12  67.864998    60.242538\n",
              "2019-12-13  68.787498    61.289730\n",
              "2019-12-16  69.964996    62.204876\n",
              "2019-12-17  70.102501    63.417355"
            ]
          },
          "metadata": {
            "tags": []
          },
          "execution_count": 109
        }
      ]
    },
    {
      "cell_type": "code",
      "metadata": {
        "id": "-aKYxdU-IQjn",
        "outputId": "b1ab680a-1ec1-4168-823d-84686c2aac72",
        "colab": {
          "base_uri": "https://localhost:8080/",
          "height": 558
        }
      },
      "source": [
        "plt.figure(figsize=(16,8))\n",
        "plt.title('Model')\n",
        "plt.xlabel('Date', fontsize=18)\n",
        "plt.ylabel('Close Price',fontsize=18)\n",
        "#plt.plot(train['Close'])\n",
        "#plt.plot(valid[['Close','Predictions']])\n",
        "#plt.plot(valid['Close'])\n",
        "#plt.plot(pre['Close'])\n",
        "#plt.plot(pre[['Close','Predictions']])\n",
        "#plt.plot(predictions)\n",
        "plt.plot(predictions[-1])\n",
        "\n",
        "#plt.legend(['Val','Predictions'],loc='lower right')\n",
        "plt.show()"
      ],
      "execution_count": null,
      "outputs": [
        {
          "output_type": "display_data",
          "data": {
            "image/png": "[encoded data removed]",
            "text/plain": [
              "<Figure size 1152x576 with 1 Axes>"
            ]
          },
          "metadata": {
            "tags": []
          }
        }
      ]
    }
  ]
}